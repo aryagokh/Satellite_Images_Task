{
 "cells": [
  {
   "cell_type": "code",
   "execution_count": 1,
   "metadata": {},
   "outputs": [],
   "source": [
    "import numpy as np\n",
    "from shapely.geometry import box\n",
    "from supervision.detection.utils import box_iou_batch\n",
    "import random"
   ]
  },
  {
   "cell_type": "markdown",
   "metadata": {},
   "source": [
    "# 1. Intersection over Union (IoU)"
   ]
  },
  {
   "cell_type": "code",
   "execution_count": null,
   "metadata": {},
   "outputs": [],
   "source": [
    "def yolo_to_corners(x_center, y_center, width, height):\n",
    "    x_min = x_center - width / 2\n",
    "    y_min = y_center - height / 2\n",
    "    x_max = x_center + width / 2\n",
    "    y_max = y_center + height / 2\n",
    "    return x_min, y_min, x_max, y_max\n",
    "\n",
    "def iou_shapely(box1, box2):\n",
    "    x1_min, y1_min, x1_max, y1_max = yolo_to_corners(*box1)\n",
    "    x2_min, y2_min, x2_max, y2_max = yolo_to_corners(*box2)\n",
    "\n",
    "    box1_shapely = box(x1_min, y1_min, x1_max, y1_max)\n",
    "    box2_shapely = box(x2_min, y2_min, x2_max, y2_max)\n",
    "\n",
    "    intersection_area = box1_shapely.intersection(box2_shapely).area\n",
    "    union_area = box1_shapely.union(box2_shapely).area\n",
    "\n",
    "    iou = intersection_area / union_area #if union_area > 0 else 0\n",
    "    return iou"
   ]
  },
  {
   "cell_type": "code",
   "execution_count": null,
   "metadata": {},
   "outputs": [
    {
     "name": "stdout",
     "output_type": "stream",
     "text": [
      "Shapely IoU : 0.3763\n",
      "Supervision IoU : 0.3763\n"
     ]
    }
   ],
   "source": [
    "box1 = (0.5, 0.5, 0.4, 0.4)  \n",
    "box2 = (0.55, 0.65, 0.4, 0.4)  \n",
    "\n",
    "iou_s = iou_shapely(box1, box2)\n",
    "print(f\"Shapely IoU : {iou_s:.4f}\")\n",
    "\n",
    "\n",
    "# Supervision lib takes xmin...ymax\n",
    "box1_corners = np.array([yolo_to_corners(*box1)]) \n",
    "box2_corners = np.array([yolo_to_corners(*box2)])\n",
    "\n",
    "iou_supervision = box_iou_batch(box1_corners, box2_corners)[0, 0]\n",
    "print(f\"Supervision IoU : {iou_supervision:.4f}\")"
   ]
  },
  {
   "cell_type": "code",
   "execution_count": 4,
   "metadata": {},
   "outputs": [],
   "source": [
    "# Both provide same results"
   ]
  },
  {
   "cell_type": "markdown",
   "metadata": {},
   "source": [
    "# 2. Average Precision (AP)"
   ]
  },
  {
   "cell_type": "markdown",
   "metadata": {},
   "source": [
    "### a. Pascal VOC 11 point interpolation method\n",
    "* 11 treshold points bw [0, 1] for recall (0.1 diff).\n",
    "* For each recall threshold, take the maximum precision at or above that recall level.\n",
    "* Average of all at last for AP"
   ]
  },
  {
   "cell_type": "code",
   "execution_count": 5,
   "metadata": {},
   "outputs": [],
   "source": [
    "def voc_11_point_ap(precision, recall):\n",
    "    recall_thresholds = np.linspace(0, 1, 11) \n",
    "    precision_interp = []\n",
    "    for th in recall_thresholds:\n",
    "        max_precision = np.max(precision[recall >= th]) if np.any(recall >= th) else 0\n",
    "        # print(max_precision)\n",
    "        precision_interp.append(max_precision)\n",
    "        \n",
    "    return np.mean(precision_interp)"
   ]
  },
  {
   "cell_type": "code",
   "execution_count": 6,
   "metadata": {},
   "outputs": [
    {
     "name": "stdout",
     "output_type": "stream",
     "text": [
      "0.8745454545454546\n"
     ]
    }
   ],
   "source": [
    "precision = np.array([1.00, 1.00, 0.67, 0.75, 0.80, 0.71])\n",
    "recall = np.array([0.20, 0.40, 0.40, 0.60, 0.80, 1.00])\n",
    "\n",
    "print(voc_11_point_ap(precision=precision, recall=recall))"
   ]
  },
  {
   "cell_type": "markdown",
   "metadata": {},
   "source": [
    "### b. COCO 101-point interpolation method\n",
    "* Same approach as VOC 11, only difference is recall threshold count. Here it is 101."
   ]
  },
  {
   "cell_type": "code",
   "execution_count": 7,
   "metadata": {},
   "outputs": [],
   "source": [
    "def coco_101_point_ap(precision, recall):\n",
    "    recall_thresholds = np.linspace(0, 1, 101)\n",
    "    precision_interp = []\n",
    "    for th in recall_thresholds:\n",
    "        max_precision = np.max(precision[recall >= th]) if np.any(recall >= th) else 0\n",
    "        precision_interp.append(max_precision)\n",
    "\n",
    "    return np.mean(precision_interp)"
   ]
  },
  {
   "cell_type": "code",
   "execution_count": 8,
   "metadata": {},
   "outputs": [
    {
     "name": "stdout",
     "output_type": "stream",
     "text": [
      "0.8633663366336631\n"
     ]
    }
   ],
   "source": [
    "print(coco_101_point_ap(precision=precision, recall=recall))"
   ]
  },
  {
   "cell_type": "markdown",
   "metadata": {},
   "source": [
    "###  c. Area under Precision-Recall Curve (AP) \n",
    "* Integration (auc)"
   ]
  },
  {
   "cell_type": "code",
   "execution_count": 9,
   "metadata": {},
   "outputs": [],
   "source": [
    "def ap_pr_curve(precision, recall):\n",
    "    sorted_indices = np.argsort(recall)\n",
    "    recall = np.array(recall)[sorted_indices]\n",
    "    precision = np.array(precision)[sorted_indices]\n",
    "    ap = np.trapz(precision, recall)\n",
    "    \n",
    "    return ap"
   ]
  },
  {
   "cell_type": "code",
   "execution_count": 10,
   "metadata": {},
   "outputs": [
    {
     "name": "stdout",
     "output_type": "stream",
     "text": [
      "0.6479999999999999\n"
     ]
    }
   ],
   "source": [
    "print(ap_pr_curve(precision, recall))"
   ]
  },
  {
   "cell_type": "markdown",
   "metadata": {},
   "source": [
    "---------"
   ]
  },
  {
   "cell_type": "markdown",
   "metadata": {},
   "source": [
    "### Randomly generate 10 images and compare AP50"
   ]
  },
  {
   "cell_type": "code",
   "execution_count": 29,
   "metadata": {},
   "outputs": [],
   "source": [
    "def generate_random_box(image_size=100, box_size=20):\n",
    "    x_center = random.randint(box_size // 2, image_size - box_size // 2)\n",
    "    y_center = random.randint(box_size // 2, image_size - box_size // 2)\n",
    "    # print(x_center, y_center)\n",
    "    return (x_center, y_center, box_size, box_size)\n",
    "\n",
    "def compute_precision_recall(gt_boxes, pred_boxes, iou_threshold=0.5):\n",
    "    ious = np.array([[iou_shapely(gt, pred) for pred in pred_boxes] for gt in gt_boxes])\n",
    "\n",
    "    tp, fp, fn = 0, 0, len(gt_boxes)\n",
    "    precisions, recalls = [], []\n",
    "    for i in range(len(pred_boxes)):\n",
    "        max_iou = np.max(ious[:, i])\n",
    "        if max_iou >= iou_threshold:\n",
    "            tp += 1\n",
    "            fn -= 1\n",
    "        else:\n",
    "            fp += 1\n",
    "        precision = tp / (tp + fp) \n",
    "        recall = tp / (tp + fn)\n",
    "        precisions.append(precision)\n",
    "        recalls.append(recall)\n",
    "\n",
    "    return np.array(precisions), np.array(recalls)"
   ]
  },
  {
   "cell_type": "code",
   "execution_count": 32,
   "metadata": {},
   "outputs": [
    {
     "name": "stdout",
     "output_type": "stream",
     "text": [
      "Pascal VOC 11-point AP: 0.2182\n",
      "COCO 101-point AP: 0.1782\n",
      "PR Curve Area AP: 0.0586\n"
     ]
    }
   ],
   "source": [
    "def evaluate_ap_methods():\n",
    "    num_images = 10\n",
    "    gt_boxes = [generate_random_box() for _ in range(num_images)]\n",
    "    pred_boxes = [generate_random_box() for _ in range(num_images)]\n",
    "    \n",
    "    precision, recall = compute_precision_recall(gt_boxes, pred_boxes)\n",
    "\n",
    "    ap_voc = voc_11_point_ap(precision, recall)\n",
    "    ap_coco = coco_101_point_ap(precision, recall)\n",
    "    ap_pr = ap_pr_curve(precision, recall)\n",
    "\n",
    "    print(f\"Pascal VOC 11-point AP: {ap_voc:.4f}\")\n",
    "    print(f\"COCO 101-point AP: {ap_coco:.4f}\")\n",
    "    print(f\"PR Curve Area AP: {ap_pr:.4f}\")\n",
    "\n",
    "evaluate_ap_methods()"
   ]
  },
  {
   "cell_type": "code",
   "execution_count": null,
   "metadata": {},
   "outputs": [],
   "source": []
  }
 ],
 "metadata": {
  "kernelspec": {
   "display_name": "Python 3",
   "language": "python",
   "name": "python3"
  },
  "language_info": {
   "codemirror_mode": {
    "name": "ipython",
    "version": 3
   },
   "file_extension": ".py",
   "mimetype": "text/x-python",
   "name": "python",
   "nbconvert_exporter": "python",
   "pygments_lexer": "ipython3",
   "version": "3.8.18"
  }
 },
 "nbformat": 4,
 "nbformat_minor": 2
}
