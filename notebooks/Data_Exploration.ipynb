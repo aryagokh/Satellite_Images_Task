{
 "cells": [
  {
   "cell_type": "code",
   "execution_count": null,
   "metadata": {},
   "outputs": [],
   "source": [
    "import pandas as pd\n",
    "import numpy as np\n",
    "import matplotlib.pyplot as plt\n",
    "import seaborn as sns\n",
    "from tqdm import tqdm\n",
    "\n",
    "import os\n",
    "import collections\n",
    "from collections import Counter"
   ]
  },
  {
   "cell_type": "markdown",
   "metadata": {},
   "source": [
    "# Dataset exploration and understanding\n",
    "\n",
    "## 1. Dataset Statistics"
   ]
  },
  {
   "cell_type": "code",
   "execution_count": 6,
   "metadata": {},
   "outputs": [
    {
     "name": "stdout",
     "output_type": "stream",
     "text": [
      "Number of images present : 2553\n"
     ]
    }
   ],
   "source": [
    "folder_path = '../image_chips_native'\n",
    "\n",
    "tif_count = sum(1 for file in os.listdir(folder_path))\n",
    "\n",
    "print(f\"Number of images present : {tif_count}\")"
   ]
  },
  {
   "cell_type": "code",
   "execution_count": 7,
   "metadata": {},
   "outputs": [
    {
     "name": "stdout",
     "output_type": "stream",
     "text": [
      "11 Images have 0 labels\n",
      "81 Images have 1 labels\n",
      "167 Images have 2 labels\n",
      "221 Images have 3 labels\n",
      "218 Images have 4 labels\n",
      "217 Images have 5 labels\n",
      "189 Images have 6 labels\n",
      "170 Images have 7 labels\n",
      "184 Images have 8 labels\n",
      "169 Images have 9 labels\n",
      "121 Images have 10 labels\n",
      "97 Images have 11 labels\n",
      "84 Images have 12 labels\n",
      "69 Images have 13 labels\n",
      "49 Images have 14 labels\n",
      "46 Images have 15 labels\n",
      "41 Images have 16 labels\n",
      "36 Images have 17 labels\n",
      "25 Images have 18 labels\n",
      "29 Images have 19 labels\n",
      "14 Images have 20 labels\n",
      "4 Images have 21 labels\n",
      "1 Images have 22 labels\n",
      "4 Images have 23 labels\n",
      "2 Images have 24 labels\n",
      "4 Images have 25 labels\n",
      "3 Images have 26 labels\n",
      "5 Images have 27 labels\n",
      "5 Images have 28 labels\n",
      "15 Images have 29 labels\n",
      "20 Images have 30 labels\n",
      "8 Images have 31 labels\n",
      "7 Images have 32 labels\n",
      "13 Images have 33 labels\n",
      "19 Images have 34 labels\n",
      "10 Images have 35 labels\n",
      "6 Images have 36 labels\n",
      "17 Images have 37 labels\n",
      "13 Images have 38 labels\n",
      "6 Images have 39 labels\n",
      "9 Images have 40 labels\n",
      "10 Images have 41 labels\n",
      "12 Images have 42 labels\n",
      "11 Images have 43 labels\n",
      "4 Images have 44 labels\n",
      "2 Images have 45 labels\n",
      "5 Images have 46 labels\n",
      "9 Images have 47 labels\n",
      "3 Images have 48 labels\n",
      "5 Images have 49 labels\n",
      "6 Images have 50 labels\n",
      "9 Images have 51 labels\n",
      "16 Images have 52 labels\n",
      "4 Images have 53 labels\n",
      "6 Images have 54 labels\n",
      "1 Images have 55 labels\n",
      "1 Images have 56 labels\n",
      "3 Images have 58 labels\n",
      "2 Images have 59 labels\n",
      "2 Images have 60 labels\n",
      "1 Images have 61 labels\n",
      "6 Images have 62 labels\n",
      "3 Images have 63 labels\n",
      "1 Images have 64 labels\n",
      "3 Images have 65 labels\n",
      "4 Images have 66 labels\n",
      "1 Images have 67 labels\n",
      "1 Images have 71 labels\n",
      "1 Images have 72 labels\n",
      "1 Images have 73 labels\n",
      "5 Images have 74 labels\n",
      "1 Images have 75 labels\n",
      "2 Images have 76 labels\n",
      "2 Images have 77 labels\n",
      "1 Images have 78 labels\n",
      "\n",
      "Total Images Scanned: 2553\n",
      "Total Solar Panels Detected: 29625\n"
     ]
    }
   ],
   "source": [
    "labels_path = \"../labels/labels_native\" \n",
    "images_path = \"../image_chips_native\"\n",
    "\n",
    "image_files = {os.path.splitext(f)[0] for f in os.listdir(images_path)}\n",
    "\n",
    "label_counts = collections.defaultdict(int)\n",
    "\n",
    "total_solar_panels = 0  \n",
    "\n",
    "for label_file in os.listdir(labels_path):\n",
    "    if label_file.endswith(\".txt\"):\n",
    "        image_name = os.path.splitext(label_file)[0]\n",
    "        with open(os.path.join(labels_path, label_file), \"r\") as f:\n",
    "            num_labels = sum(1 for _ in f)  \n",
    "        label_counts[image_name] = num_labels  \n",
    "        total_solar_panels += num_labels  \n",
    "\n",
    "value_counts = collections.Counter(label_counts.values())\n",
    "\n",
    "zero_label_count = len(image_files - set(label_counts.keys()))\n",
    "if zero_label_count > 0:\n",
    "    value_counts[0] = zero_label_count\n",
    "\n",
    "total_images = 0\n",
    "for count, num_images in sorted(value_counts.items()):\n",
    "    print(f\"{num_images} Images have {count} labels\")\n",
    "    total_images += num_images\n",
    "\n",
    "print(\"\\nTotal Images Scanned:\", total_images)\n",
    "print(\"Total Solar Panels Detected:\", total_solar_panels)"
   ]
  },
  {
   "cell_type": "code",
   "execution_count": 12,
   "metadata": {},
   "outputs": [
    {
     "name": "stdout",
     "output_type": "stream",
     "text": [
      "Category 0: 29267 objects\n",
      "Category 2: 228 objects\n",
      "Category 1: 130 objects\n"
     ]
    }
   ],
   "source": [
    "labels_dir = \"../labels/labels_native\"\n",
    "category_counts = Counter()\n",
    "\n",
    "for file in os.listdir(labels_dir):\n",
    "    if file.endswith(\".txt\"):\n",
    "        with open(os.path.join(labels_dir, file), \"r\") as f:\n",
    "            for line in f:\n",
    "                parts = line.strip().split()\n",
    "                category = parts[0]\n",
    "                category_counts[category] += 1\n",
    "\n",
    "for category, count in category_counts.items():\n",
    "    print(f\"Category {category}: {count} objects\")"
   ]
  },
  {
   "cell_type": "code",
   "execution_count": 18,
   "metadata": {},
   "outputs": [
    {
     "data": {
      "text/plain": [
       "29625"
      ]
     },
     "execution_count": 18,
     "metadata": {},
     "output_type": "execute_result"
    }
   ],
   "source": [
    "29267+228+130"
   ]
  },
  {
   "cell_type": "markdown",
   "metadata": {},
   "source": [
    "## 2. Statistics of the area of solar panels in meters "
   ]
  },
  {
   "cell_type": "code",
   "execution_count": null,
   "metadata": {},
   "outputs": [],
   "source": [
    "# Sample solar panel label --> 0 0 0.8725961538461539 0.7007211538461539 0.057692307692307696 0.05528846153846154\n",
    "# It indicates category, x-center, y-center, x-width, y-height (of the bounding box scaled).\n",
    "\n",
    "# For values of these in pixels we have to multiply them with image res (416x416 here)\n",
    "# So here, 0, 0.872596 × 416, 0.700721 × 416, 0.057692 × 416, 0.055288 × 416   which becomes  (0, 364, 291, 24,  23)\n",
    "# So, the bounding box in pixel coordinates is: Center: (364,291), Width: 24, Height: 23\n",
    "\n",
    "# To convert them in meters from pixels, we have to use info provided in README\n",
    "# Lets say image belongs to Tile 1, then Tile 1: (307670.04, 0.31, 0.0, 5434427.100000001, 0.0, -0.31) is its geotransform\n",
    "# Geotransform --> (X-origin, X_scale (Each pixel width in m), X_skew, y_origin, y_skew, y_scale)\n",
    "\n",
    "# So the label in meters will be \n",
    "# Center at ((307670.04 + (364 × 0.31)), (5434427.10+(291×−0.31))) = (307782.88, 5434336.89) geographically\n",
    "# Width --> 24 × 0.31 = 7.44 meters, Height --> |23×(−0.31)| = 7.13 meters\n",
    "# And thus, the area of sample solar panel = Width x Height = 7.44 × 7.13 = 53.06 square meters"
   ]
  },
  {
   "cell_type": "code",
   "execution_count": 32,
   "metadata": {},
   "outputs": [
    {
     "name": "stderr",
     "output_type": "stream",
     "text": [
      "100%|██████████| 2542/2542 [00:00<00:00, 12467.11it/s]"
     ]
    },
    {
     "name": "stdout",
     "output_type": "stream",
     "text": [
      "Mean area: 191.52 square meters\n",
      "Median area: 91.68 square meters\n",
      "Standard Deviation: 630.70 square meters\n"
     ]
    },
    {
     "name": "stderr",
     "output_type": "stream",
     "text": [
      "\n"
     ]
    }
   ],
   "source": [
    "labels_dir = \"../labels/labels_native\"\n",
    "\n",
    "areas = []\n",
    "\n",
    "for file in tqdm(os.listdir(labels_dir)):\n",
    "    image_size = 416\n",
    "    meters_per_pixel = 0.31\n",
    "    \n",
    "    with open(os.path.join(labels_dir, file), \"r\") as f:\n",
    "        for line in f:\n",
    "            parts = line.strip().split()\n",
    "            _, _, _, x_width, y_width = map(float, parts)\n",
    "            area = (x_width * image_size) * (y_width * image_size) * (meters_per_pixel ** 2)\n",
    "            areas.append(area)\n",
    "\n",
    "mean = np.mean(areas)\n",
    "std = np.std(areas)\n",
    "median = np.median(areas)\n",
    "print(f\"Mean area: {mean:.2f} square meters\")\n",
    "print(f\"Median area: {median:.2f} square meters\")\n",
    "print(f\"Standard Deviation: {std:.2f} square meters\")"
   ]
  },
  {
   "cell_type": "code",
   "execution_count": 33,
   "metadata": {},
   "outputs": [
    {
     "data": {
      "image/png": "[encoded data removed]",
      "text/plain": [
       "<Figure size 640x480 with 1 Axes>"
      ]
     },
     "metadata": {},
     "output_type": "display_data"
    }
   ],
   "source": [
    "sns.histplot(areas, bins=30, kde=True)\n",
    "plt.xlabel(\"Area (sq. meters)\")\n",
    "plt.ylabel(\"Frequency\")\n",
    "plt.title(\"Histogram of Solar Panel Areas\")\n",
    "plt.show()"
   ]
  },
  {
   "cell_type": "code",
   "execution_count": 34,
   "metadata": {},
   "outputs": [],
   "source": [
    "# Inferences : \n",
    "# 1. The mean area is 191.52 sq m. and median is 91.68 sq m.\n",
    "# 2. The distribution is heavily right skewed, showing that most of the solar panels have area lower values.\n",
    "# 3. There are very few extremely high area values which create long tail extending upto 12000 sq m.\n",
    "\n",
    "# Conclusion - The data have far more areas of lower values than the higher ones."
   ]
  }
 ],
 "metadata": {
  "kernelspec": {
   "display_name": "Python 3",
   "language": "python",
   "name": "python3"
  },
  "language_info": {
   "codemirror_mode": {
    "name": "ipython",
    "version": 3
   },
   "file_extension": ".py",
   "mimetype": "text/x-python",
   "name": "python",
   "nbconvert_exporter": "python",
   "pygments_lexer": "ipython3",
   "version": "3.8.18"
  }
 },
 "nbformat": 4,
 "nbformat_minor": 2
}
